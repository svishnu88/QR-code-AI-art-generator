{
 "cells": [
  {
   "cell_type": "code",
   "execution_count": null,
   "id": "8fc0b451-06e3-4032-88b9-d15c325fd754",
   "metadata": {},
   "outputs": [],
   "source": [
    "You are an prompt generator, given a word create prompts like these\n",
    "\n",
    "desert\n",
    "Prompt: A sky view of a colorful lakes and rivers flowing through the desert\n",
    "\n",
    "big rocks\n",
    "Prompt: Bright sunshine coming through the cracks of a wet, cave wall of big rocks\n",
    "\n",
    "nature\n",
    "Prompt: Sky view of highly aesthetic, ancient greek thermal baths in beautiful nature\n",
    "\n"
   ]
  }
 ],
 "metadata": {
  "kernelspec": {
   "display_name": "Python 3 (ipykernel)",
   "language": "python",
   "name": "python3"
  },
  "language_info": {
   "codemirror_mode": {
    "name": "ipython",
    "version": 3
   },
   "file_extension": ".py",
   "mimetype": "text/x-python",
   "name": "python",
   "nbconvert_exporter": "python",
   "pygments_lexer": "ipython3",
   "version": "3.10.11"
  }
 },
 "nbformat": 4,
 "nbformat_minor": 5
}
